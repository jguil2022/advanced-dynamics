{
 "cells": [
  {
   "cell_type": "code",
   "execution_count": null,
   "id": "496d7bf8",
   "metadata": {},
   "outputs": [],
   "source": [
    "import sympy\n",
    "import numpy as np"
   ]
  },
  {
   "cell_type": "markdown",
   "id": "5455ff2e",
   "metadata": {
    "tags": []
   },
   "source": [
    "# Building Constraints in [SymPy](https://www.sympy.org)\n",
    "\n",
    "It can be difficult to build constraints for general dynamic solutions. Each constraint is realtively straight forward, but keeping track of Jacobian terms or acceleration constraints\n",
    "- $\\mathbf{C_q}$ \n",
    "- $\\mathbf{Q_d} = -(\\mathbf{C_q \\dot{q}})_\\mathbf{q}\\mathbf{\\dot{q}} - 2\\mathbf{C}_{\\mathbf{q}t}\\dot{\\mathbf{q}}- \\mathbf{C}_{tt}$ \n",
    "\n",
    "can be cumbersome and confusing. In this notebook, you will use [SymPy](https://www.sympy.org) to \n",
    "\n",
    "1. define $\\mathbf{q}~and~\\dot{\\mathbf{q}}$\n",
    "2. take a Jacobian and find the constraints on acceleration\n",
    "3. [`lambdify`](https://docs.sympy.org/latest/tutorial/basic_operations.html#lambdify) the constraints, Jacobian, and $\\mathbf{Q}_d$\n",
    "\n",
    "## 1. define $\\mathbf{q}~and~\\dot{\\mathbf{q}}$\n",
    "\n",
    "First, define the variables using `sympy.Matrix`. SymPy uses `var` to define variables, here you create\n",
    "\n",
    "$q = \\left[\\begin{matrix}q_{1}\\\\q_{2}\\\\q_{3}\\\\q_{4}\\\\q_{5}\\\\q_{6}\\end{matrix}\\right],~\n",
    "\\dot{q} = \\left[\\begin{matrix}dq_{1}\\\\dq_{2}\\\\dq_{3}\\\\dq_{4}\\\\dq_{5}\\\\dq_{6}\\end{matrix}\\right],~t,~and~L$\n",
    "\n",
    "as SymPy variables."
   ]
  },
  {
   "cell_type": "code",
   "execution_count": null,
   "id": "27bf3b54",
   "metadata": {},
   "outputs": [],
   "source": [
    "sympy.var('q1, q2, q3, q4, q5, q6')\n",
    "sympy.var('dq1, dq2, dq3, dq4, dq5, dq6')\n",
    "sympy.var('t, L2')\n",
    "q = sympy.Matrix([q1, q2, q3, q4, q5, q6])\n",
    "dq = sympy.Matrix([dq1, dq2, dq3, dq4, dq5, dq6])"
   ]
  },
  {
   "cell_type": "code",
   "execution_count": null,
   "id": "38ae82ae",
   "metadata": {},
   "outputs": [],
   "source": [
    "q"
   ]
  },
  {
   "cell_type": "markdown",
   "id": "e0952980",
   "metadata": {},
   "source": [
    "$\\mathbf{q} = \\left[\\begin{matrix}q_{1}\\\\q_{2}\\\\q_{3}\\\\q_{4}\\\\q_{5}\\\\q_{6}\\end{matrix}\\right]$"
   ]
  },
  {
   "cell_type": "code",
   "execution_count": null,
   "id": "5136b4fc",
   "metadata": {},
   "outputs": [],
   "source": [
    "dq"
   ]
  },
  {
   "cell_type": "markdown",
   "id": "266e8599",
   "metadata": {},
   "source": [
    "## 2. take a Jacobian and find the constraints on acceleration\n",
    "\n",
    "![two bodies: sliding block and compound pendulum](../images/spring_compound-2_bodies.svg)\n",
    "\n",
    "In this example, you have two rigid bodies. Body one $[q_1,~q_2,~q_3]$ slides on the x-axis. Body 1 and body 2, $[q_4,~q_5,~q_6]$ are connected by a pin in the center of body 1, $\\mathbf{R}_{pin} = q_1\\hat{i}+q_2\\hat{j}$."
   ]
  },
  {
   "cell_type": "code",
   "execution_count": null,
   "id": "5ced85d0",
   "metadata": {},
   "outputs": [],
   "source": [
    "C = sympy.Matrix([q1  - q4 + L2/2*sympy.cos(q6),\n",
    "                 q2 - q5 + L2/2*sympy.sin(q6),\n",
    "                 q2,\n",
    "                 q3])\n",
    "C"
   ]
  },
  {
   "cell_type": "markdown",
   "id": "19fd8a0e",
   "metadata": {},
   "source": [
    "Next, take the Jacobian, $\\mathbf{C_q}$."
   ]
  },
  {
   "cell_type": "code",
   "execution_count": null,
   "id": "dd784f2e",
   "metadata": {},
   "outputs": [],
   "source": [
    "Cq = C.jacobian(q)\n",
    "print('Cq dimensions:', Cq.shape)\n",
    "Cq"
   ]
  },
  {
   "cell_type": "markdown",
   "id": "cf7c44fc",
   "metadata": {},
   "source": [
    "Now, you can calculate \n",
    "\n",
    "$\\mathbf{Q_d} = -(\\mathbf{C_q \\dot{q}})_\\mathbf{q}\\mathbf{\\dot{q}} - 2\\mathbf{C}_{\\mathbf{q}t}\\dot{\\mathbf{q}}- \\mathbf{C}_{tt}$"
   ]
  },
  {
   "cell_type": "code",
   "execution_count": null,
   "id": "447dd067",
   "metadata": {},
   "outputs": [],
   "source": [
    "Qd = -(C.jacobian(q)@dq).jacobian(q)@dq\\\n",
    "    - 2*sympy.diff(Cq,t)@dq\\\n",
    "    - sympy.diff(C, t, 2)\n",
    "\n",
    "Qd"
   ]
  },
  {
   "cell_type": "markdown",
   "id": "55b3652c",
   "metadata": {},
   "source": [
    "## 3. [`lambdify`](https://docs.sympy.org/latest/tutorial/basic_operations.html#lambdify) the constraints, Jacobian, and $\\mathbf{Q}_d$\n",
    "\n",
    "Finally, you can create functions that return NumPy arrays with `sympy.lambdify`. The inputs are\n",
    "\n",
    "```python\n",
    "sympy.lambdify( inputs, function, \"numpy\" )\n",
    "```\n",
    "\n",
    "where the `inputs` are $\\mathbf{q}$, $\\dot{\\mathbf{q}}$, and other parameters like time or dimensions, $L^2$."
   ]
  },
  {
   "cell_type": "code",
   "execution_count": null,
   "id": "0b1b3b7b",
   "metadata": {},
   "outputs": [],
   "source": [
    "Cq_sys = sympy.lambdify((q, t, L2), Cq, 'numpy')"
   ]
  },
  {
   "cell_type": "code",
   "execution_count": null,
   "id": "f8f18997",
   "metadata": {},
   "outputs": [],
   "source": [
    "Cq_sys(np.zeros(6), 1, L2 = 1)"
   ]
  },
  {
   "cell_type": "code",
   "execution_count": null,
   "id": "684a814c",
   "metadata": {},
   "outputs": [],
   "source": [
    "Q = sympy.lambdify((q, dq, t, L2), Qd, \"numpy\")"
   ]
  },
  {
   "cell_type": "code",
   "execution_count": null,
   "id": "239e956e",
   "metadata": {},
   "outputs": [],
   "source": [
    "Q(np.ones(6), np.ones(6), 0, L2 = 1)"
   ]
  },
  {
   "cell_type": "code",
   "execution_count": null,
   "id": "7f588744",
   "metadata": {},
   "outputs": [],
   "source": []
  }
 ],
 "metadata": {
  "jupytext": {
   "formats": "ipynb,md:myst",
   "text_representation": {
    "extension": ".md",
    "format_name": "myst",
    "format_version": 0.13,
    "jupytext_version": "1.10.3"
   }
  },
  "kernelspec": {
   "display_name": "Python 3",
   "language": "python",
   "name": "python3"
  },
  "source_map": [
   15,
   20,
   43,
   51,
   53,
   57,
   59,
   67,
   73,
   77,
   81,
   87,
   94,
   106,
   110,
   114,
   118,
   122
  ]
 },
 "nbformat": 4,
 "nbformat_minor": 5
}